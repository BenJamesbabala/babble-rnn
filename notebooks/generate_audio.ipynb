{
 "cells": [
  {
   "cell_type": "markdown",
   "metadata": {},
   "source": [
    "Generate from another sample\n",
    "--\n",
    "\n",
    "Set `outname` to be the base filename for the output file (stored to the *.generated* directory)\n",
    "\n",
    "Set `c2file` to be the filename of the Codec2 encoded file containing the seed\n",
    "\n",
    "Set `seed_start_index` to be one of: `\"random\"`, the frame number, or more conveniently the number of seconds into the audio (for example `\"27s\"`)\n",
    "\n",
    "The generator takes several minutes to complete. It will not run if the `outname`_.wav_ file already exists.\n",
    "\n",
    "The first 5 seconds of audio are the original seed data. The remaining audio is generated from the network model specified."
   ]
  },
  {
   "cell_type": "code",
   "execution_count": null,
   "metadata": {},
   "outputs": [
    {
     "name": "stdout",
     "output_type": "stream",
     "text": [
      "Starting generator - this could take some time\n"
     ]
    }
   ],
   "source": [
    "\n",
    "modelfn=\"out/tale-prog-stateful8l/model-505.h5\" \n",
    "outname=\"longbabble505b\"\n",
    "c2file=\"test/TaleOfTwoCities_pt09.c2cb\"\n",
    "seed_start_index = \"1169\"\n",
    "generate_length = int(60 / 0.04)\n",
    "\n",
    "import network_data as nd\n",
    "import os\n",
    "from subprocess import check_output, call\n",
    "from IPython.display import display, Markdown, Audio, Image\n",
    "\n",
    "os.chdir(\"/home/ec2-user/store/c2gen\")\n",
    "if os.path.isfile('generated/'+outname+'.wav'):\n",
    "    print(\"File\", outname, \"already exists\")\n",
    "else:  \n",
    "    print(\"Starting generator - this could take some time\")\n",
    "    call([\"python\", \"lstm_c2_generation.py\", \"--generate=\"+outname, \"--generate-len=\"+str(generate_length), \"--seed_index=\"+seed_start_index, c2file, modelfn])\n",
    "    print(\"Generator complete\")  \n",
    "display(Audio(filename=\"/home/ec2-user/store/c2gen/generated/\"+outname+\".wav\"))  \n",
    "os.chdir(\"/home/ec2-user/store/c2gen/notebooks\") \n",
    "  \n",
    "nd.plot_gen_audio_waveform(outname) "
   ]
  }
 ],
 "metadata": {
  "kernelspec": {
   "display_name": "Python 3",
   "language": "python",
   "name": "python3"
  },
  "language_info": {
   "codemirror_mode": {
    "name": "ipython",
    "version": 3
   },
   "file_extension": ".py",
   "mimetype": "text/x-python",
   "name": "python",
   "nbconvert_exporter": "python",
   "pygments_lexer": "ipython3",
   "version": "3.4.3"
  }
 },
 "nbformat": 4,
 "nbformat_minor": 2
}
