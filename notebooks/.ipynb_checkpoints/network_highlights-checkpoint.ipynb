{
 "cells": [
  {
   "cell_type": "markdown",
   "metadata": {},
   "source": [
    "# Network Notes"
   ]
  },
  {
   "cell_type": "code",
   "execution_count": 292,
   "metadata": {
    "scrolled": true
   },
   "outputs": [
    {
     "name": "stdout",
     "output_type": "stream",
     "text": [
      "b'fit_batch_size:  200 \n",
      "genlen:  400 \n",
      "frame_seq_len:  200 \n",
      "seq_step:  20 \n",
      "loading test data from:  ./test/TaleOfTwoCities.c2cb \n",
      "corpus length: 23324560 \n",
      "frame_property_scaleup:  [1, 1, 1, 1, 128, 32, 16, 16, 16, 16, 16, 16, 16, 8, 8, 4] \n",
      "loading model: ./out/tale-prog-stateful8f/model-185.h5 \n",
      "number of frames: 1457785 \n",
      "number of frame sequences: 72880 \n",
      "Training Iteration 186 \n",
      "Make lstm 1 & 2 trainable \n",
      "Compiling model \n",
      "Training Iteration 187 \n",
      "Training Iteration 188 \n",
      "Training Iteration 189 \n",
      "'\n",
      "66600/72880 [==========================>...] - ETA: 115s - loss: 0.5557'\n"
     ]
    }
   ],
   "source": [
    "#network_model = \"tale-prog-large3\"\n",
    "#network_model = \"tale-iter5\"\n",
    "network_model = \"tale-prog-stateful8l\"\n",
    "iter1 = 185\n",
    "iter2 = 185\n",
    "from subprocess import check_output, call\n",
    "\n",
    "import os\n",
    "os.chdir(\"/home/ec2-user/store/c2gen/notebooks\")\n",
    "\n",
    "\n",
    "cb = \"/home/ec2-user/store/c2gen/out/\"+network_model+\"/out-c2cb-\"+str(iter1)\n",
    "call([\"bash\", \"/home/ec2-user/store/c2gen/c2towav.sh\", cb ])\n",
    "cb = \"/home/ec2-user/store/c2gen/out/\"+network_model+\"/out-c2cb-\"+str(iter2)\n",
    "call([\"bash\", \"/home/ec2-user/store/c2gen/c2towav.sh\", cb ])\n",
    "\n",
    "import network_data as nd\n",
    "from IPython.display import display, Markdown, Audio, Image\n",
    "res = check_output([\"tail\", \"-n 20\", \"/home/ec2-user/store/c2gen/out/\"+network_model+\"/log\"])\n",
    "res = str(res).replace('\\\\n', \"\\n\")\n",
    "print(res)\n",
    "res = check_output([\"tail\", '-n 1', \"/home/ec2-user/store/c2gen/nohup-\"+network_model+\".out\"])\n",
    "res = str(res).replace('\\\\n', \"\\n\")\n",
    "res = str(res).replace('\\\\r', \"\\n\")\n",
    "res = str(res).replace('\\\\x08', \"\")\n",
    "res = res.split(\"\\n\")[-1]\n",
    "print(res)"
   ]
  },
  {
   "cell_type": "code",
   "execution_count": 293,
   "metadata": {
    "scrolled": true
   },
   "outputs": [
    {
     "name": "stdout",
     "output_type": "stream",
     "text": [
      "no markdown file found\n"
     ]
    }
   ],
   "source": [
    "try:\n",
    "  with open('./networks/' + network_model + '_notes.md', 'r') as fh:\n",
    "    display(Markdown(fh.read()))\n",
    "    \n",
    "except:\n",
    "    print(\"no markdown file found\")"
   ]
  },
  {
   "cell_type": "code",
   "execution_count": 298,
   "metadata": {},
   "outputs": [
    {
     "name": "stdout",
     "output_type": "stream",
     "text": [
      "lstm_1 : LSTM\n",
      "320 units\n",
      "tanh activation\n",
      "0.0 dropout\n",
      "\n",
      "lstm_2 : LSTM\n",
      "320 units\n",
      "tanh activation\n",
      "0.0 dropout\n",
      "\n",
      "lstm_3 : LSTM\n",
      "320 units\n",
      "tanh activation\n",
      "0.0 dropout\n",
      "\n",
      "dense_1 : Dense\n",
      "16 units\n",
      "relu activation\n",
      " dropout\n",
      "\n"
     ]
    }
   ],
   "source": [
    "nd.model_config(network_model)"
   ]
  },
  {
   "cell_type": "code",
   "execution_count": null,
   "metadata": {
    "collapsed": true
   },
   "outputs": [],
   "source": [
    "    "
   ]
  },
  {
   "cell_type": "markdown",
   "metadata": {},
   "source": [
    "Early Iterations\n",
    "==="
   ]
  },
  {
   "cell_type": "code",
   "execution_count": 297,
   "metadata": {
    "scrolled": false
   },
   "outputs": [
    {
     "data": {
      "image/png": "[encoded data removed]",
      "text/plain": [
       "<matplotlib.figure.Figure at 0x7f32789257f0>"
      ]
     },
     "metadata": {},
     "output_type": "display_data"
    }
   ],
   "source": [
    "nd.plot_training_loss(network_model)"
   ]
  },
  {
   "cell_type": "code",
   "execution_count": 296,
   "metadata": {},
   "outputs": [
    {
     "ename": "FileNotFoundError",
     "evalue": "[Errno 2] No such file or directory: '/home/ec2-user/store/c2gen/out/tale-prog-stateful8l/out-c2cb-185'",
     "output_type": "error",
     "traceback": [
      "\u001b[0;31m---------------------------------------------------------------------------\u001b[0m",
      "\u001b[0;31mFileNotFoundError\u001b[0m                         Traceback (most recent call last)",
      "\u001b[0;32m<ipython-input-296-4232a1a67ae1>\u001b[0m in \u001b[0;36m<module>\u001b[0;34m()\u001b[0m\n\u001b[0;32m----> 1\u001b[0;31m \u001b[0mnd\u001b[0m\u001b[0;34m.\u001b[0m\u001b[0mplot_codec_params\u001b[0m\u001b[0;34m(\u001b[0m\u001b[0mnetwork_model\u001b[0m\u001b[0;34m,\u001b[0m\u001b[0miter1\u001b[0m\u001b[0;34m)\u001b[0m\u001b[0;34m\u001b[0m\u001b[0m\n\u001b[0m",
      "\u001b[0;32m/home/ec2-user/store/c2gen/notebooks/network_data.py\u001b[0m in \u001b[0;36mplot_codec_params\u001b[0;34m(network_tag, iteration)\u001b[0m\n\u001b[1;32m     42\u001b[0m   \u001b[0miteration\u001b[0m \u001b[0;34m=\u001b[0m \u001b[0mstr\u001b[0m\u001b[0;34m(\u001b[0m\u001b[0miteration\u001b[0m\u001b[0;34m)\u001b[0m\u001b[0;34m\u001b[0m\u001b[0m\n\u001b[1;32m     43\u001b[0m   \u001b[0minfilename\u001b[0m \u001b[0;34m=\u001b[0m \u001b[0;34m\"/home/ec2-user/store/c2gen/out/\"\u001b[0m \u001b[0;34m+\u001b[0m \u001b[0mnetwork_tag\u001b[0m \u001b[0;34m+\u001b[0m \u001b[0;34m\"/out-c2cb-\"\u001b[0m \u001b[0;34m+\u001b[0m \u001b[0miteration\u001b[0m\u001b[0;34m\u001b[0m\u001b[0m\n\u001b[0;32m---> 44\u001b[0;31m   \u001b[0mindata\u001b[0m \u001b[0;34m=\u001b[0m \u001b[0mnp\u001b[0m\u001b[0;34m.\u001b[0m\u001b[0mfromfile\u001b[0m\u001b[0;34m(\u001b[0m\u001b[0minfilename\u001b[0m\u001b[0;34m,\u001b[0m \u001b[0mdtype\u001b[0m\u001b[0;34m=\u001b[0m\u001b[0mnp\u001b[0m\u001b[0;34m.\u001b[0m\u001b[0muint8\u001b[0m\u001b[0;34m)\u001b[0m\u001b[0;34m\u001b[0m\u001b[0m\n\u001b[0m\u001b[1;32m     45\u001b[0m \u001b[0;34m\u001b[0m\u001b[0m\n\u001b[1;32m     46\u001b[0m   \u001b[0mdata\u001b[0m \u001b[0;34m=\u001b[0m \u001b[0mnp\u001b[0m\u001b[0;34m.\u001b[0m\u001b[0mreshape\u001b[0m\u001b[0;34m(\u001b[0m\u001b[0mindata\u001b[0m\u001b[0;34m,\u001b[0m \u001b[0;34m(\u001b[0m\u001b[0;34m-\u001b[0m\u001b[0;36m1\u001b[0m\u001b[0;34m,\u001b[0m\u001b[0;36m16\u001b[0m\u001b[0;34m)\u001b[0m\u001b[0;34m)\u001b[0m\u001b[0;34m\u001b[0m\u001b[0m\n",
      "\u001b[0;31mFileNotFoundError\u001b[0m: [Errno 2] No such file or directory: '/home/ec2-user/store/c2gen/out/tale-prog-stateful8l/out-c2cb-185'"
     ]
    }
   ],
   "source": [
    "nd.plot_codec_params(network_model,iter1)"
   ]
  },
  {
   "cell_type": "code",
   "execution_count": null,
   "metadata": {
    "collapsed": true,
    "scrolled": true
   },
   "outputs": [],
   "source": [
    "nd.plot_audio_waveform(network_model, iter1)"
   ]
  },
  {
   "cell_type": "markdown",
   "metadata": {},
   "source": [
    "Listen to the WAV file"
   ]
  },
  {
   "cell_type": "code",
   "execution_count": null,
   "metadata": {
    "collapsed": true,
    "scrolled": true
   },
   "outputs": [],
   "source": [
    "display(Audio(filename=\"/home/ec2-user/store/c2gen/out/\"+network_model+\"/out-c2cb-\"+str(iter1)+\".wav\"))"
   ]
  },
  {
   "cell_type": "markdown",
   "metadata": {},
   "source": [
    "Later Iterations\n",
    "==="
   ]
  },
  {
   "cell_type": "code",
   "execution_count": null,
   "metadata": {
    "collapsed": true
   },
   "outputs": [],
   "source": [
    "nd.plot_codec_params(network_model,iter2)"
   ]
  },
  {
   "cell_type": "code",
   "execution_count": null,
   "metadata": {
    "collapsed": true,
    "scrolled": true
   },
   "outputs": [],
   "source": [
    "nd.plot_audio_waveform(network_model, iter2)"
   ]
  },
  {
   "cell_type": "markdown",
   "metadata": {},
   "source": [
    "Listen to the WAV file"
   ]
  },
  {
   "cell_type": "code",
   "execution_count": null,
   "metadata": {
    "collapsed": true
   },
   "outputs": [],
   "source": [
    "display(Audio(filename=\"/home/ec2-user/store/c2gen/out/\"+network_model+\"/out-c2cb-\"+str(iter2)+\".wav\"))"
   ]
  },
  {
   "cell_type": "markdown",
   "metadata": {},
   "source": [
    "Generate from another sample\n",
    "--\n",
    "Change first line of the next cell to `gen=True`\n",
    "\n",
    "Set `outname` to be the base filename for the output file (stored to the *.generated* directory)\n",
    "\n",
    "Set `c2file` to be the filename of the Codec2 encoded file containing the seed\n",
    "\n",
    "Set `seed_start_index` to be one of: `\"random\"`, the frame number, or more conveniently the number of seconds into the audio (for example `\"27s\"`)\n",
    "\n",
    "The generator takes several minutes to complete. It will not run if the `outname`_.wav_ file already exists.\n",
    "\n",
    "The first 5 seconds of audio are the original seed data. The remaining audio is generated from the network model specified."
   ]
  },
  {
   "cell_type": "code",
   "execution_count": null,
   "metadata": {
    "collapsed": true,
    "scrolled": true
   },
   "outputs": [],
   "source": [
    "gen=True\n",
    "modelfn=\"out/tale-prog-large3/model-500.h5\" \n",
    "outname=\"testout40w2\"\n",
    "c2file=\"test/TaleOfTwoCities_pt09.c2cb\"\n",
    "seed_start_index = \"620s\"\n",
    "\n",
    "\n",
    "\n",
    "if gen:  \n",
    "  os.chdir(\"/home/ec2-user/store/c2gen\")\n",
    "  if os.path.isfile('generated/'+outname+'.wav'):\n",
    "    print(\"File\", outname, \"already exists\")\n",
    "  else:  \n",
    "    print(\"Starting generator - this could take some time\")\n",
    "    call([\"python\", \"lstm_c2_generation.py\", \"--generate=\"+outname, \"--seed_index=\"+seed_start_index, c2file, modelfn])\n",
    "    print(\"Generator complete\")  \n",
    "  display(Audio(filename=\"/home/ec2-user/store/c2gen/generated/\"+outname+\".wav\"))  \n",
    "  os.chdir(\"/home/ec2-user/store/c2gen/notebooks\")"
   ]
  }
 ],
 "metadata": {
  "kernelspec": {
   "display_name": "Python 3",
   "language": "python",
   "name": "python3"
  },
  "language_info": {
   "codemirror_mode": {
    "name": "ipython",
    "version": 3
   },
   "file_extension": ".py",
   "mimetype": "text/x-python",
   "name": "python",
   "nbconvert_exporter": "python",
   "pygments_lexer": "ipython3",
   "version": "3.4.3"
  }
 },
 "nbformat": 4,
 "nbformat_minor": 2
}
